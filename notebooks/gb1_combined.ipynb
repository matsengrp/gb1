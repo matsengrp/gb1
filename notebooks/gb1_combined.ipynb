{
 "cells": [
  {
   "cell_type": "code",
   "execution_count": 1,
   "metadata": {},
   "outputs": [],
   "source": [
    "import pandas as pd\n",
    "import numpy as np\n",
    "\n",
    "import dms_variants.binarymap\n",
    "import dms_variants.globalepistasis"
   ]
  },
  {
   "cell_type": "code",
   "execution_count": 33,
   "metadata": {},
   "outputs": [],
   "source": [
    "import pickle\n",
    "def from_pickle_file(path):\n",
    "    with open(path, \"rb\") as file:\n",
    "        return pickle.load(file)\n",
    "\n",
    "[aa_func_scores, wtseq] = from_pickle_file('../data/gb1_fitness.pkl')\n",
    "[aa_stab_scores, wtseq] = from_pickle_file('../data/gb1_stability.pkl')"
   ]
  },
  {
   "cell_type": "code",
   "execution_count": 36,
   "metadata": {},
   "outputs": [
    {
     "data": {
      "text/html": [
       "<div>\n",
       "<style scoped>\n",
       "    .dataframe tbody tr th:only-of-type {\n",
       "        vertical-align: middle;\n",
       "    }\n",
       "\n",
       "    .dataframe tbody tr th {\n",
       "        vertical-align: top;\n",
       "    }\n",
       "\n",
       "    .dataframe thead th {\n",
       "        text-align: right;\n",
       "    }\n",
       "</style>\n",
       "<table border=\"1\" class=\"dataframe\">\n",
       "  <thead>\n",
       "    <tr style=\"text-align: right;\">\n",
       "      <th></th>\n",
       "      <th>aa_substitutions</th>\n",
       "      <th>stability_score_sd</th>\n",
       "      <th>stability_score</th>\n",
       "      <th>n_aa_substitutions</th>\n",
       "    </tr>\n",
       "  </thead>\n",
       "  <tbody>\n",
       "    <tr>\n",
       "      <th>0</th>\n",
       "      <td>A20D</td>\n",
       "      <td>0.16780</td>\n",
       "      <td>-1.646</td>\n",
       "      <td>1</td>\n",
       "    </tr>\n",
       "    <tr>\n",
       "      <th>1</th>\n",
       "      <td>A20E</td>\n",
       "      <td>0.04353</td>\n",
       "      <td>-0.582</td>\n",
       "      <td>1</td>\n",
       "    </tr>\n",
       "    <tr>\n",
       "      <th>2</th>\n",
       "      <td>A20F</td>\n",
       "      <td>0.09556</td>\n",
       "      <td>-1.732</td>\n",
       "      <td>1</td>\n",
       "    </tr>\n",
       "    <tr>\n",
       "      <th>3</th>\n",
       "      <td>A20G</td>\n",
       "      <td>0.17730</td>\n",
       "      <td>-1.107</td>\n",
       "      <td>1</td>\n",
       "    </tr>\n",
       "    <tr>\n",
       "      <th>4</th>\n",
       "      <td>A20H</td>\n",
       "      <td>0.14330</td>\n",
       "      <td>-1.914</td>\n",
       "      <td>1</td>\n",
       "    </tr>\n",
       "  </tbody>\n",
       "</table>\n",
       "</div>"
      ],
      "text/plain": [
       "  aa_substitutions  stability_score_sd  stability_score  n_aa_substitutions\n",
       "0             A20D             0.16780           -1.646                   1\n",
       "1             A20E             0.04353           -0.582                   1\n",
       "2             A20F             0.09556           -1.732                   1\n",
       "3             A20G             0.17730           -1.107                   1\n",
       "4             A20H             0.14330           -1.914                   1"
      ]
     },
     "execution_count": 36,
     "metadata": {},
     "output_type": "execute_result"
    }
   ],
   "source": [
    "aa_func_scores.head()"
   ]
  },
  {
   "cell_type": "code",
   "execution_count": 37,
   "metadata": {},
   "outputs": [
    {
     "data": {
      "text/html": [
       "<div>\n",
       "<style scoped>\n",
       "    .dataframe tbody tr th:only-of-type {\n",
       "        vertical-align: middle;\n",
       "    }\n",
       "\n",
       "    .dataframe tbody tr th {\n",
       "        vertical-align: top;\n",
       "    }\n",
       "\n",
       "    .dataframe thead th {\n",
       "        text-align: right;\n",
       "    }\n",
       "</style>\n",
       "<table border=\"1\" class=\"dataframe\">\n",
       "  <thead>\n",
       "    <tr style=\"text-align: right;\">\n",
       "      <th></th>\n",
       "      <th>aa_substitutions</th>\n",
       "      <th>stability_score_sd</th>\n",
       "      <th>stability_score</th>\n",
       "      <th>n_aa_substitutions</th>\n",
       "    </tr>\n",
       "  </thead>\n",
       "  <tbody>\n",
       "    <tr>\n",
       "      <th>0</th>\n",
       "      <td>A20D</td>\n",
       "      <td>0.16780</td>\n",
       "      <td>-1.646</td>\n",
       "      <td>1</td>\n",
       "    </tr>\n",
       "    <tr>\n",
       "      <th>1</th>\n",
       "      <td>A20E</td>\n",
       "      <td>0.04353</td>\n",
       "      <td>-0.582</td>\n",
       "      <td>1</td>\n",
       "    </tr>\n",
       "    <tr>\n",
       "      <th>2</th>\n",
       "      <td>A20F</td>\n",
       "      <td>0.09556</td>\n",
       "      <td>-1.732</td>\n",
       "      <td>1</td>\n",
       "    </tr>\n",
       "    <tr>\n",
       "      <th>3</th>\n",
       "      <td>A20G</td>\n",
       "      <td>0.17730</td>\n",
       "      <td>-1.107</td>\n",
       "      <td>1</td>\n",
       "    </tr>\n",
       "    <tr>\n",
       "      <th>4</th>\n",
       "      <td>A20H</td>\n",
       "      <td>0.14330</td>\n",
       "      <td>-1.914</td>\n",
       "      <td>1</td>\n",
       "    </tr>\n",
       "  </tbody>\n",
       "</table>\n",
       "</div>"
      ],
      "text/plain": [
       "  aa_substitutions  stability_score_sd  stability_score  n_aa_substitutions\n",
       "0             A20D             0.16780           -1.646                   1\n",
       "1             A20E             0.04353           -0.582                   1\n",
       "2             A20F             0.09556           -1.732                   1\n",
       "3             A20G             0.17730           -1.107                   1\n",
       "4             A20H             0.14330           -1.914                   1"
      ]
     },
     "execution_count": 37,
     "metadata": {},
     "output_type": "execute_result"
    }
   ],
   "source": [
    "aa_stab_scores.head()"
   ]
  },
  {
   "cell_type": "markdown",
   "metadata": {},
   "source": [
    "change 'T2X' to 'Q2X' for gb1 stability scores, to make sure the wt seq lines up for both datasets"
   ]
  },
  {
   "cell_type": "code",
   "execution_count": 38,
   "metadata": {},
   "outputs": [],
   "source": [
    "aa_stab_scores.drop(['n_aa_substitutions'], axis=1, inplace=True)\n",
    "\n",
    "import re\n",
    "\n",
    "single_digit = re.compile('(T)(2)([A-Z])')\n",
    "\n",
    "aa_stab_scores['aa_substitutions'] = aa_stab_scores['aa_substitutions'].replace(\n",
    "    {single_digit: r'Q\\2\\3'}, regex=True)"
   ]
  },
  {
   "cell_type": "code",
   "execution_count": 39,
   "metadata": {},
   "outputs": [],
   "source": [
    "gb1_full = pd.merge(aa_func_scores,\n",
    "                    aa_stab_scores,\n",
    "                    how='outer',\n",
    "                    on=['aa_substitutions']\n",
    "                   )"
   ]
  },
  {
   "cell_type": "code",
   "execution_count": 40,
   "metadata": {},
   "outputs": [
    {
     "name": "stdout",
     "output_type": "stream",
     "text": [
      "<class 'pandas.core.frame.DataFrame'>\n",
      "Int64Index: 536980 entries, 0 to 536979\n",
      "Data columns (total 6 columns):\n",
      " #   Column              Non-Null Count   Dtype  \n",
      "---  ------              --------------   -----  \n",
      " 0   aa_substitutions    536980 non-null  object \n",
      " 1   input_count         536962 non-null  float64\n",
      " 2   sele_count          536962 non-null  float64\n",
      " 3   func_score          536962 non-null  float64\n",
      " 4   stability_score_sd  935 non-null     float64\n",
      " 5   stability_score     935 non-null     float64\n",
      "dtypes: float64(5), object(1)\n",
      "memory usage: 28.7+ MB\n"
     ]
    },
    {
     "data": {
      "text/html": [
       "<div>\n",
       "<style scoped>\n",
       "    .dataframe tbody tr th:only-of-type {\n",
       "        vertical-align: middle;\n",
       "    }\n",
       "\n",
       "    .dataframe tbody tr th {\n",
       "        vertical-align: top;\n",
       "    }\n",
       "\n",
       "    .dataframe thead th {\n",
       "        text-align: right;\n",
       "    }\n",
       "</style>\n",
       "<table border=\"1\" class=\"dataframe\">\n",
       "  <thead>\n",
       "    <tr style=\"text-align: right;\">\n",
       "      <th></th>\n",
       "      <th>aa_substitutions</th>\n",
       "      <th>input_count</th>\n",
       "      <th>sele_count</th>\n",
       "      <th>func_score</th>\n",
       "      <th>stability_score_sd</th>\n",
       "      <th>stability_score</th>\n",
       "    </tr>\n",
       "  </thead>\n",
       "  <tbody>\n",
       "    <tr>\n",
       "      <th>0</th>\n",
       "      <td>Q2A</td>\n",
       "      <td>14663.0</td>\n",
       "      <td>38476.0</td>\n",
       "      <td>1.517930</td>\n",
       "      <td>0.08169</td>\n",
       "      <td>-0.4704</td>\n",
       "    </tr>\n",
       "    <tr>\n",
       "      <th>1</th>\n",
       "      <td>Q2C</td>\n",
       "      <td>13001.0</td>\n",
       "      <td>23023.0</td>\n",
       "      <td>1.024400</td>\n",
       "      <td>NaN</td>\n",
       "      <td>NaN</td>\n",
       "    </tr>\n",
       "    <tr>\n",
       "      <th>2</th>\n",
       "      <td>Q2D</td>\n",
       "      <td>11488.0</td>\n",
       "      <td>18085.0</td>\n",
       "      <td>0.910665</td>\n",
       "      <td>0.01713</td>\n",
       "      <td>-0.5538</td>\n",
       "    </tr>\n",
       "    <tr>\n",
       "      <th>3</th>\n",
       "      <td>Q2E</td>\n",
       "      <td>9501.0</td>\n",
       "      <td>15629.0</td>\n",
       "      <td>0.951582</td>\n",
       "      <td>0.03447</td>\n",
       "      <td>0.1299</td>\n",
       "    </tr>\n",
       "    <tr>\n",
       "      <th>4</th>\n",
       "      <td>Q2F</td>\n",
       "      <td>4770.0</td>\n",
       "      <td>13332.0</td>\n",
       "      <td>1.616819</td>\n",
       "      <td>0.07045</td>\n",
       "      <td>0.3008</td>\n",
       "    </tr>\n",
       "  </tbody>\n",
       "</table>\n",
       "</div>"
      ],
      "text/plain": [
       "  aa_substitutions  input_count  sele_count  func_score  stability_score_sd  \\\n",
       "0              Q2A      14663.0     38476.0    1.517930             0.08169   \n",
       "1              Q2C      13001.0     23023.0    1.024400                 NaN   \n",
       "2              Q2D      11488.0     18085.0    0.910665             0.01713   \n",
       "3              Q2E       9501.0     15629.0    0.951582             0.03447   \n",
       "4              Q2F       4770.0     13332.0    1.616819             0.07045   \n",
       "\n",
       "   stability_score  \n",
       "0          -0.4704  \n",
       "1              NaN  \n",
       "2          -0.5538  \n",
       "3           0.1299  \n",
       "4           0.3008  "
      ]
     },
     "execution_count": 40,
     "metadata": {},
     "output_type": "execute_result"
    }
   ],
   "source": [
    "gb1_full.info()\n",
    "gb1_full.head()"
   ]
  },
  {
   "cell_type": "markdown",
   "metadata": {},
   "source": [
    "make sure we got func_score and stab_score to line up for overlapping aa_substitutions"
   ]
  },
  {
   "cell_type": "code",
   "execution_count": 41,
   "metadata": {
    "scrolled": true
   },
   "outputs": [
    {
     "name": "stdout",
     "output_type": "stream",
     "text": [
      "<class 'pandas.core.frame.DataFrame'>\n",
      "Int64Index: 917 entries, 0 to 1044\n",
      "Data columns (total 6 columns):\n",
      " #   Column              Non-Null Count  Dtype  \n",
      "---  ------              --------------  -----  \n",
      " 0   aa_substitutions    917 non-null    object \n",
      " 1   input_count         917 non-null    float64\n",
      " 2   sele_count          917 non-null    float64\n",
      " 3   func_score          917 non-null    float64\n",
      " 4   stability_score_sd  917 non-null    float64\n",
      " 5   stability_score     917 non-null    float64\n",
      "dtypes: float64(5), object(1)\n",
      "memory usage: 50.1+ KB\n"
     ]
    }
   ],
   "source": [
    "gb1_doubles = gb1_full.dropna()\n",
    "gb1_doubles.info()"
   ]
  },
  {
   "cell_type": "code",
   "execution_count": 42,
   "metadata": {},
   "outputs": [],
   "source": [
    "wtseq = \"MQYKLILNGKTLKGETTTEAVDAATAEKVFKQYANDNGVDGEWTYDDATKTFTVTE\""
   ]
  },
  {
   "cell_type": "code",
   "execution_count": 43,
   "metadata": {},
   "outputs": [],
   "source": [
    "# export fitness data and wtseq\n",
    "import pickle\n",
    "with open(\"gb1_full.pkl\", \"wb\") as f:\n",
    "      pickle.dump([gb1_full, wtseq], f)"
   ]
  },
  {
   "cell_type": "code",
   "execution_count": null,
   "metadata": {},
   "outputs": [],
   "source": []
  }
 ],
 "metadata": {
  "kernelspec": {
   "display_name": "Python 3",
   "language": "python",
   "name": "python3"
  },
  "language_info": {
   "codemirror_mode": {
    "name": "ipython",
    "version": 3
   },
   "file_extension": ".py",
   "mimetype": "text/x-python",
   "name": "python",
   "nbconvert_exporter": "python",
   "pygments_lexer": "ipython3",
   "version": "3.7.7"
  }
 },
 "nbformat": 4,
 "nbformat_minor": 4
}
