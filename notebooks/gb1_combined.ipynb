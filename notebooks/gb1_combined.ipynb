{
 "cells": [
  {
   "cell_type": "markdown",
   "metadata": {},
   "source": [
    "# Merging fitness and stability scores for epistasis modeling"
   ]
  },
  {
   "cell_type": "markdown",
   "metadata": {},
   "source": [
    "In this notebook, I take "
   ]
  },
  {
   "cell_type": "code",
   "execution_count": 1,
   "metadata": {},
   "outputs": [],
   "source": [
    "import pandas as pd\n",
    "import numpy as np\n",
    "\n",
    "import dms_variants.binarymap\n",
    "import dms_variants.globalepistasis"
   ]
  },
  {
   "cell_type": "code",
   "execution_count": 2,
   "metadata": {},
   "outputs": [],
   "source": [
    "import pickle\n",
    "def from_pickle_file(path):\n",
    "    with open(path, \"rb\") as file:\n",
    "        return pickle.load(file)\n",
    "\n",
    "[aa_func_scores, wtseq] = from_pickle_file('../data/gb1_fitness.pkl')\n",
    "[aa_stab_scores, wtseq] = from_pickle_file('../data/gb1_stability.pkl')"
   ]
  },
  {
   "cell_type": "code",
   "execution_count": 3,
   "metadata": {},
   "outputs": [
    {
     "data": {
      "text/html": [
       "<div>\n",
       "<style scoped>\n",
       "    .dataframe tbody tr th:only-of-type {\n",
       "        vertical-align: middle;\n",
       "    }\n",
       "\n",
       "    .dataframe tbody tr th {\n",
       "        vertical-align: top;\n",
       "    }\n",
       "\n",
       "    .dataframe thead th {\n",
       "        text-align: right;\n",
       "    }\n",
       "</style>\n",
       "<table border=\"1\" class=\"dataframe\">\n",
       "  <thead>\n",
       "    <tr style=\"text-align: right;\">\n",
       "      <th></th>\n",
       "      <th>aa_substitutions</th>\n",
       "      <th>input_count</th>\n",
       "      <th>sele_count</th>\n",
       "      <th>func_score</th>\n",
       "    </tr>\n",
       "  </thead>\n",
       "  <tbody>\n",
       "    <tr>\n",
       "      <th>0</th>\n",
       "      <td>Q2A</td>\n",
       "      <td>14663</td>\n",
       "      <td>38476</td>\n",
       "      <td>1.517930</td>\n",
       "    </tr>\n",
       "    <tr>\n",
       "      <th>1</th>\n",
       "      <td>Q2C</td>\n",
       "      <td>13001</td>\n",
       "      <td>23023</td>\n",
       "      <td>1.024400</td>\n",
       "    </tr>\n",
       "    <tr>\n",
       "      <th>2</th>\n",
       "      <td>Q2D</td>\n",
       "      <td>11488</td>\n",
       "      <td>18085</td>\n",
       "      <td>0.910665</td>\n",
       "    </tr>\n",
       "    <tr>\n",
       "      <th>3</th>\n",
       "      <td>Q2E</td>\n",
       "      <td>9501</td>\n",
       "      <td>15629</td>\n",
       "      <td>0.951582</td>\n",
       "    </tr>\n",
       "    <tr>\n",
       "      <th>4</th>\n",
       "      <td>Q2F</td>\n",
       "      <td>4770</td>\n",
       "      <td>13332</td>\n",
       "      <td>1.616819</td>\n",
       "    </tr>\n",
       "  </tbody>\n",
       "</table>\n",
       "</div>"
      ],
      "text/plain": [
       "  aa_substitutions  input_count  sele_count  func_score\n",
       "0              Q2A        14663       38476    1.517930\n",
       "1              Q2C        13001       23023    1.024400\n",
       "2              Q2D        11488       18085    0.910665\n",
       "3              Q2E         9501       15629    0.951582\n",
       "4              Q2F         4770       13332    1.616819"
      ]
     },
     "execution_count": 3,
     "metadata": {},
     "output_type": "execute_result"
    }
   ],
   "source": [
    "aa_func_scores.head()"
   ]
  },
  {
   "cell_type": "code",
   "execution_count": 4,
   "metadata": {},
   "outputs": [
    {
     "data": {
      "text/html": [
       "<div>\n",
       "<style scoped>\n",
       "    .dataframe tbody tr th:only-of-type {\n",
       "        vertical-align: middle;\n",
       "    }\n",
       "\n",
       "    .dataframe tbody tr th {\n",
       "        vertical-align: top;\n",
       "    }\n",
       "\n",
       "    .dataframe thead th {\n",
       "        text-align: right;\n",
       "    }\n",
       "</style>\n",
       "<table border=\"1\" class=\"dataframe\">\n",
       "  <thead>\n",
       "    <tr style=\"text-align: right;\">\n",
       "      <th></th>\n",
       "      <th>aa_substitutions</th>\n",
       "      <th>stability_score_sd</th>\n",
       "      <th>stability_score</th>\n",
       "    </tr>\n",
       "  </thead>\n",
       "  <tbody>\n",
       "    <tr>\n",
       "      <th>0</th>\n",
       "      <td>A20D</td>\n",
       "      <td>0.16780</td>\n",
       "      <td>-1.646</td>\n",
       "    </tr>\n",
       "    <tr>\n",
       "      <th>1</th>\n",
       "      <td>A20E</td>\n",
       "      <td>0.04353</td>\n",
       "      <td>-0.582</td>\n",
       "    </tr>\n",
       "    <tr>\n",
       "      <th>2</th>\n",
       "      <td>A20F</td>\n",
       "      <td>0.09556</td>\n",
       "      <td>-1.732</td>\n",
       "    </tr>\n",
       "    <tr>\n",
       "      <th>3</th>\n",
       "      <td>A20G</td>\n",
       "      <td>0.17730</td>\n",
       "      <td>-1.107</td>\n",
       "    </tr>\n",
       "    <tr>\n",
       "      <th>4</th>\n",
       "      <td>A20H</td>\n",
       "      <td>0.14330</td>\n",
       "      <td>-1.914</td>\n",
       "    </tr>\n",
       "  </tbody>\n",
       "</table>\n",
       "</div>"
      ],
      "text/plain": [
       "  aa_substitutions  stability_score_sd  stability_score\n",
       "0             A20D             0.16780           -1.646\n",
       "1             A20E             0.04353           -0.582\n",
       "2             A20F             0.09556           -1.732\n",
       "3             A20G             0.17730           -1.107\n",
       "4             A20H             0.14330           -1.914"
      ]
     },
     "execution_count": 4,
     "metadata": {},
     "output_type": "execute_result"
    }
   ],
   "source": [
    "aa_stab_scores.drop(['n_aa_substitutions'], axis=1, inplace=True)\n",
    "aa_stab_scores.head()"
   ]
  },
  {
   "cell_type": "markdown",
   "metadata": {},
   "source": [
    "drop 'Q2X' from func_scores, to make sure the wt seq lines up for both datasets"
   ]
  },
  {
   "cell_type": "code",
   "execution_count": 5,
   "metadata": {},
   "outputs": [
    {
     "data": {
      "text/html": [
       "<div>\n",
       "<style scoped>\n",
       "    .dataframe tbody tr th:only-of-type {\n",
       "        vertical-align: middle;\n",
       "    }\n",
       "\n",
       "    .dataframe tbody tr th {\n",
       "        vertical-align: top;\n",
       "    }\n",
       "\n",
       "    .dataframe thead th {\n",
       "        text-align: right;\n",
       "    }\n",
       "</style>\n",
       "<table border=\"1\" class=\"dataframe\">\n",
       "  <thead>\n",
       "    <tr style=\"text-align: right;\">\n",
       "      <th></th>\n",
       "      <th>aa_substitutions</th>\n",
       "      <th>input_count</th>\n",
       "      <th>sele_count</th>\n",
       "      <th>func_score</th>\n",
       "    </tr>\n",
       "  </thead>\n",
       "  <tbody>\n",
       "    <tr>\n",
       "      <th>19</th>\n",
       "      <td>Y3A</td>\n",
       "      <td>24572</td>\n",
       "      <td>24579</td>\n",
       "      <td>0.578640</td>\n",
       "    </tr>\n",
       "    <tr>\n",
       "      <th>20</th>\n",
       "      <td>Y3C</td>\n",
       "      <td>4869</td>\n",
       "      <td>5187</td>\n",
       "      <td>0.616256</td>\n",
       "    </tr>\n",
       "    <tr>\n",
       "      <th>21</th>\n",
       "      <td>Y3D</td>\n",
       "      <td>11538</td>\n",
       "      <td>190</td>\n",
       "      <td>0.009526</td>\n",
       "    </tr>\n",
       "    <tr>\n",
       "      <th>22</th>\n",
       "      <td>Y3E</td>\n",
       "      <td>7916</td>\n",
       "      <td>121</td>\n",
       "      <td>0.008842</td>\n",
       "    </tr>\n",
       "    <tr>\n",
       "      <th>23</th>\n",
       "      <td>Y3F</td>\n",
       "      <td>12855</td>\n",
       "      <td>23428</td>\n",
       "      <td>1.054260</td>\n",
       "    </tr>\n",
       "  </tbody>\n",
       "</table>\n",
       "</div>"
      ],
      "text/plain": [
       "   aa_substitutions  input_count  sele_count  func_score\n",
       "19              Y3A        24572       24579    0.578640\n",
       "20              Y3C         4869        5187    0.616256\n",
       "21              Y3D        11538         190    0.009526\n",
       "22              Y3E         7916         121    0.008842\n",
       "23              Y3F        12855       23428    1.054260"
      ]
     },
     "execution_count": 5,
     "metadata": {},
     "output_type": "execute_result"
    }
   ],
   "source": [
    "filter = aa_func_scores['aa_substitutions'].str.contains('Q2[A-Z]')\n",
    "aa_func_scores = aa_func_scores[~filter]\n",
    "aa_func_scores.head()"
   ]
  },
  {
   "cell_type": "code",
   "execution_count": 6,
   "metadata": {},
   "outputs": [],
   "source": [
    "gb1_full = pd.merge(aa_func_scores,\n",
    "                    aa_stab_scores,\n",
    "                    how='outer',\n",
    "                    on=['aa_substitutions']\n",
    "                   )"
   ]
  },
  {
   "cell_type": "code",
   "execution_count": 7,
   "metadata": {},
   "outputs": [
    {
     "name": "stdout",
     "output_type": "stream",
     "text": [
      "<class 'pandas.core.frame.DataFrame'>\n",
      "Int64Index: 517493 entries, 0 to 517492\n",
      "Data columns (total 6 columns):\n",
      " #   Column              Non-Null Count   Dtype  \n",
      "---  ------              --------------   -----  \n",
      " 0   aa_substitutions    517493 non-null  object \n",
      " 1   input_count         517459 non-null  float64\n",
      " 2   sele_count          517459 non-null  float64\n",
      " 3   func_score          517459 non-null  float64\n",
      " 4   stability_score_sd  935 non-null     float64\n",
      " 5   stability_score     935 non-null     float64\n",
      "dtypes: float64(5), object(1)\n",
      "memory usage: 27.6+ MB\n"
     ]
    },
    {
     "data": {
      "text/html": [
       "<div>\n",
       "<style scoped>\n",
       "    .dataframe tbody tr th:only-of-type {\n",
       "        vertical-align: middle;\n",
       "    }\n",
       "\n",
       "    .dataframe tbody tr th {\n",
       "        vertical-align: top;\n",
       "    }\n",
       "\n",
       "    .dataframe thead th {\n",
       "        text-align: right;\n",
       "    }\n",
       "</style>\n",
       "<table border=\"1\" class=\"dataframe\">\n",
       "  <thead>\n",
       "    <tr style=\"text-align: right;\">\n",
       "      <th></th>\n",
       "      <th>aa_substitutions</th>\n",
       "      <th>input_count</th>\n",
       "      <th>sele_count</th>\n",
       "      <th>func_score</th>\n",
       "      <th>stability_score_sd</th>\n",
       "      <th>stability_score</th>\n",
       "    </tr>\n",
       "  </thead>\n",
       "  <tbody>\n",
       "    <tr>\n",
       "      <th>0</th>\n",
       "      <td>Y3A</td>\n",
       "      <td>24572.0</td>\n",
       "      <td>24579.0</td>\n",
       "      <td>0.578640</td>\n",
       "      <td>0.0000</td>\n",
       "      <td>-4.0000</td>\n",
       "    </tr>\n",
       "    <tr>\n",
       "      <th>1</th>\n",
       "      <td>Y3C</td>\n",
       "      <td>4869.0</td>\n",
       "      <td>5187.0</td>\n",
       "      <td>0.616256</td>\n",
       "      <td>NaN</td>\n",
       "      <td>NaN</td>\n",
       "    </tr>\n",
       "    <tr>\n",
       "      <th>2</th>\n",
       "      <td>Y3D</td>\n",
       "      <td>11538.0</td>\n",
       "      <td>190.0</td>\n",
       "      <td>0.009526</td>\n",
       "      <td>0.0000</td>\n",
       "      <td>-4.0000</td>\n",
       "    </tr>\n",
       "    <tr>\n",
       "      <th>3</th>\n",
       "      <td>Y3E</td>\n",
       "      <td>7916.0</td>\n",
       "      <td>121.0</td>\n",
       "      <td>0.008842</td>\n",
       "      <td>0.0000</td>\n",
       "      <td>-4.0000</td>\n",
       "    </tr>\n",
       "    <tr>\n",
       "      <th>4</th>\n",
       "      <td>Y3F</td>\n",
       "      <td>12855.0</td>\n",
       "      <td>23428.0</td>\n",
       "      <td>1.054260</td>\n",
       "      <td>0.1211</td>\n",
       "      <td>0.5499</td>\n",
       "    </tr>\n",
       "  </tbody>\n",
       "</table>\n",
       "</div>"
      ],
      "text/plain": [
       "  aa_substitutions  input_count  sele_count  func_score  stability_score_sd  \\\n",
       "0              Y3A      24572.0     24579.0    0.578640              0.0000   \n",
       "1              Y3C       4869.0      5187.0    0.616256                 NaN   \n",
       "2              Y3D      11538.0       190.0    0.009526              0.0000   \n",
       "3              Y3E       7916.0       121.0    0.008842              0.0000   \n",
       "4              Y3F      12855.0     23428.0    1.054260              0.1211   \n",
       "\n",
       "   stability_score  \n",
       "0          -4.0000  \n",
       "1              NaN  \n",
       "2          -4.0000  \n",
       "3          -4.0000  \n",
       "4           0.5499  "
      ]
     },
     "execution_count": 7,
     "metadata": {},
     "output_type": "execute_result"
    }
   ],
   "source": [
    "gb1_full.info()\n",
    "gb1_full.head()"
   ]
  },
  {
   "cell_type": "code",
   "execution_count": 8,
   "metadata": {},
   "outputs": [],
   "source": [
    "# report WT seq as defined by Nisthal et al. (with T2 instead of Q2)\n",
    "wtseq = \"MTYKLILNGKTLKGETTTEAVDAATAEKVFKQYANDNGVDGEWTYDDATKTFTVTE\""
   ]
  },
  {
   "cell_type": "code",
   "execution_count": 9,
   "metadata": {},
   "outputs": [],
   "source": [
    "# export fitness data and wtseq\n",
    "import pickle\n",
    "with open(\"../data/gb1_full.pkl\", \"wb\") as f:\n",
    "      pickle.dump([gb1_full, wtseq], f)"
   ]
  }
 ],
 "metadata": {
  "kernelspec": {
   "display_name": "Python 3",
   "language": "python",
   "name": "python3"
  },
  "language_info": {
   "codemirror_mode": {
    "name": "ipython",
    "version": 3
   },
   "file_extension": ".py",
   "mimetype": "text/x-python",
   "name": "python",
   "nbconvert_exporter": "python",
   "pygments_lexer": "ipython3",
   "version": "3.7.7"
  }
 },
 "nbformat": 4,
 "nbformat_minor": 4
}
