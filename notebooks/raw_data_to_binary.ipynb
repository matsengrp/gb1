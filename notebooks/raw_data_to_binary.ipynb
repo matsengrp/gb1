{
 "cells": [
  {
   "cell_type": "markdown",
   "metadata": {},
   "source": [
    "# Converting raw fitness data to BinaryMap object"
   ]
  },
  {
   "cell_type": "markdown",
   "metadata": {},
   "source": [
    "In this notebook, I analyze the raw data reported in Olson et al. (2014) - *A Comprehensive Biophysical Description of Pairwise Epistasis throughout an Entire Protein Domain*. This paper assays GB1 fitness as binding affinity for IgG Fc, characterized using mRNA display. The authors create all single and and double mutations in GB1 and measure their resulting fitness. Raw data is reported as read counts before and after selection.\\\n",
    "\\\n",
    "Here, I read in the raw data, use the read couunts to calculate fitness as described in the paper, and format the dataframes such that they can be turned into BinaryMap objects for downstream epistasis modeling. BinaryMap is part of the `dms_variants` package developed by the Bloom Lab, and more information can be found [here](https://jbloomlab.github.io/dms_variants/dms_variants.binarymap.html). The output of this notebook is two BinaryMap objects describing fitness of single and double mutants, respectively."
   ]
  },
  {
   "cell_type": "code",
   "execution_count": null,
   "metadata": {},
   "outputs": [],
   "source": []
  }
 ],
 "metadata": {
  "kernelspec": {
   "display_name": "Python 3",
   "language": "python",
   "name": "python3"
  },
  "language_info": {
   "codemirror_mode": {
    "name": "ipython",
    "version": 3
   },
   "file_extension": ".py",
   "mimetype": "text/x-python",
   "name": "python",
   "nbconvert_exporter": "python",
   "pygments_lexer": "ipython3",
   "version": "3.7.3"
  }
 },
 "nbformat": 4,
 "nbformat_minor": 2
}
