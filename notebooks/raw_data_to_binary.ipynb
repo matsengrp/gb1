{
 "cells": [
  {
   "cell_type": "markdown",
   "metadata": {},
   "source": [
    "# Converting raw fitness data to BinaryMap object"
   ]
  },
  {
   "cell_type": "markdown",
   "metadata": {},
   "source": [
    "In this notebook, I analyze the raw data reported in Olson et al. (2014) - *A Comprehensive Biophysical Description of Pairwise Epistasis throughout an Entire Protein Domain*. This paper assays GB1 fitness as binding affinity for IgG Fc, characterized using mRNA display. The authors create all single and and double mutations in GB1 and measure their resulting fitness. Raw data is reported as read counts before and after selection.\\\n",
    "\\\n",
    "Here, I read in the raw data, use the read couunts to calculate fitness as described in the paper, and format the dataframes such that they can be turned into BinaryMap objects for downstream epistasis modeling. BinaryMap is part of the `dms_variants` package developed by the Bloom Lab, and more information can be found [here](https://jbloomlab.github.io/dms_variants/dms_variants.binarymap.html). The output of this notebook is two BinaryMap objects describing fitness of single and double mutants, respectively."
   ]
  },
  {
   "cell_type": "code",
   "execution_count": 1,
   "metadata": {},
   "outputs": [
    {
     "ename": "ModuleNotFoundError",
     "evalue": "No module named 'dms_variants.binarymap'",
     "output_type": "error",
     "traceback": [
      "\u001b[0;31m---------------------------------------------------------------------------\u001b[0m",
      "\u001b[0;31mModuleNotFoundError\u001b[0m                       Traceback (most recent call last)",
      "\u001b[0;32m<ipython-input-1-cab86604cc3e>\u001b[0m in \u001b[0;36m<module>\u001b[0;34m\u001b[0m\n\u001b[1;32m      2\u001b[0m \u001b[0;32mimport\u001b[0m \u001b[0mnumpy\u001b[0m \u001b[0;32mas\u001b[0m \u001b[0mnp\u001b[0m\u001b[0;34m\u001b[0m\u001b[0;34m\u001b[0m\u001b[0m\n\u001b[1;32m      3\u001b[0m \u001b[0;34m\u001b[0m\u001b[0m\n\u001b[0;32m----> 4\u001b[0;31m \u001b[0;32mimport\u001b[0m \u001b[0mdms_variants\u001b[0m\u001b[0;34m.\u001b[0m\u001b[0mbinarymap\u001b[0m\u001b[0;34m\u001b[0m\u001b[0;34m\u001b[0m\u001b[0m\n\u001b[0m\u001b[1;32m      5\u001b[0m \u001b[0;32mimport\u001b[0m \u001b[0mdms_variants\u001b[0m\u001b[0;34m.\u001b[0m\u001b[0mglobalepistasis\u001b[0m\u001b[0;34m\u001b[0m\u001b[0;34m\u001b[0m\u001b[0m\n",
      "\u001b[0;31mModuleNotFoundError\u001b[0m: No module named 'dms_variants.binarymap'"
     ]
    }
   ],
   "source": [
    "import pandas as pd\n",
    "import numpy as np\n",
    "\n",
    "import dms_variants.binarymap\n",
    "import dms_variants.globalepistasis"
   ]
  },
  {
   "cell_type": "markdown",
   "metadata": {},
   "source": [
    "### Basic reformatting of raw data"
   ]
  },
  {
   "cell_type": "code",
   "execution_count": 8,
   "metadata": {},
   "outputs": [
    {
     "name": "stderr",
     "output_type": "stream",
     "text": [
      "/Users/frances/anaconda3/lib/python3.7/site-packages/IPython/core/interactiveshell.py:3057: DtypeWarning: Columns (12,14) have mixed types. Specify dtype option on import or set low_memory=False.\n",
      "  interactivity=interactivity, compiler=compiler, result=result)\n"
     ]
    },
    {
     "data": {
      "text/html": [
       "<div>\n",
       "<style scoped>\n",
       "    .dataframe tbody tr th:only-of-type {\n",
       "        vertical-align: middle;\n",
       "    }\n",
       "\n",
       "    .dataframe tbody tr th {\n",
       "        vertical-align: top;\n",
       "    }\n",
       "\n",
       "    .dataframe thead th {\n",
       "        text-align: right;\n",
       "    }\n",
       "</style>\n",
       "<table border=\"1\" class=\"dataframe\">\n",
       "  <thead>\n",
       "    <tr style=\"text-align: right;\">\n",
       "      <th></th>\n",
       "      <th>Mut1 WT amino acid</th>\n",
       "      <th>Mut1 Position</th>\n",
       "      <th>Mut1 Mutation</th>\n",
       "      <th>Mut2 WT amino acid</th>\n",
       "      <th>Mut2 Position</th>\n",
       "      <th>Mut2 Mutation</th>\n",
       "      <th>Input Count</th>\n",
       "      <th>Selection Count</th>\n",
       "      <th>Mut1 Fitness</th>\n",
       "      <th>Mut2 Fitness</th>\n",
       "      <th>...</th>\n",
       "      <th>Unnamed: 11</th>\n",
       "      <th>WT amino acid</th>\n",
       "      <th>Position</th>\n",
       "      <th>Mutation</th>\n",
       "      <th>Input Count.1</th>\n",
       "      <th>Selection Count.1</th>\n",
       "      <th>Unnamed: 17</th>\n",
       "      <th>Unnamed: 18</th>\n",
       "      <th>Input Count.2</th>\n",
       "      <th>Selection Count.2</th>\n",
       "    </tr>\n",
       "  </thead>\n",
       "  <tbody>\n",
       "    <tr>\n",
       "      <th>0</th>\n",
       "      <td>Q</td>\n",
       "      <td>2</td>\n",
       "      <td>A</td>\n",
       "      <td>Y</td>\n",
       "      <td>3</td>\n",
       "      <td>A</td>\n",
       "      <td>173</td>\n",
       "      <td>33</td>\n",
       "      <td>1.518</td>\n",
       "      <td>0.579</td>\n",
       "      <td>...</td>\n",
       "      <td>NaN</td>\n",
       "      <td>Q</td>\n",
       "      <td>2.0</td>\n",
       "      <td>A</td>\n",
       "      <td>14663.0</td>\n",
       "      <td>38476.0</td>\n",
       "      <td>NaN</td>\n",
       "      <td>NaN</td>\n",
       "      <td>1759616.0</td>\n",
       "      <td>3041819.0</td>\n",
       "    </tr>\n",
       "    <tr>\n",
       "      <th>1</th>\n",
       "      <td>Q</td>\n",
       "      <td>2</td>\n",
       "      <td>A</td>\n",
       "      <td>Y</td>\n",
       "      <td>3</td>\n",
       "      <td>C</td>\n",
       "      <td>18</td>\n",
       "      <td>8</td>\n",
       "      <td>1.518</td>\n",
       "      <td>0.616</td>\n",
       "      <td>...</td>\n",
       "      <td>NaN</td>\n",
       "      <td>Q</td>\n",
       "      <td>2.0</td>\n",
       "      <td>C</td>\n",
       "      <td>13001.0</td>\n",
       "      <td>23023.0</td>\n",
       "      <td>NaN</td>\n",
       "      <td>NaN</td>\n",
       "      <td>NaN</td>\n",
       "      <td>NaN</td>\n",
       "    </tr>\n",
       "    <tr>\n",
       "      <th>2</th>\n",
       "      <td>Q</td>\n",
       "      <td>2</td>\n",
       "      <td>A</td>\n",
       "      <td>Y</td>\n",
       "      <td>3</td>\n",
       "      <td>D</td>\n",
       "      <td>66</td>\n",
       "      <td>2</td>\n",
       "      <td>1.518</td>\n",
       "      <td>0.010</td>\n",
       "      <td>...</td>\n",
       "      <td>NaN</td>\n",
       "      <td>Q</td>\n",
       "      <td>2.0</td>\n",
       "      <td>D</td>\n",
       "      <td>11488.0</td>\n",
       "      <td>18085.0</td>\n",
       "      <td>NaN</td>\n",
       "      <td>NaN</td>\n",
       "      <td>NaN</td>\n",
       "      <td>NaN</td>\n",
       "    </tr>\n",
       "    <tr>\n",
       "      <th>3</th>\n",
       "      <td>Q</td>\n",
       "      <td>2</td>\n",
       "      <td>A</td>\n",
       "      <td>Y</td>\n",
       "      <td>3</td>\n",
       "      <td>E</td>\n",
       "      <td>72</td>\n",
       "      <td>1</td>\n",
       "      <td>1.518</td>\n",
       "      <td>0.009</td>\n",
       "      <td>...</td>\n",
       "      <td>NaN</td>\n",
       "      <td>Q</td>\n",
       "      <td>2.0</td>\n",
       "      <td>E</td>\n",
       "      <td>9501.0</td>\n",
       "      <td>15629.0</td>\n",
       "      <td>NaN</td>\n",
       "      <td>NaN</td>\n",
       "      <td>NaN</td>\n",
       "      <td>NaN</td>\n",
       "    </tr>\n",
       "    <tr>\n",
       "      <th>4</th>\n",
       "      <td>Q</td>\n",
       "      <td>2</td>\n",
       "      <td>A</td>\n",
       "      <td>Y</td>\n",
       "      <td>3</td>\n",
       "      <td>F</td>\n",
       "      <td>69</td>\n",
       "      <td>168</td>\n",
       "      <td>1.518</td>\n",
       "      <td>1.054</td>\n",
       "      <td>...</td>\n",
       "      <td>NaN</td>\n",
       "      <td>Q</td>\n",
       "      <td>2.0</td>\n",
       "      <td>F</td>\n",
       "      <td>4770.0</td>\n",
       "      <td>13332.0</td>\n",
       "      <td>NaN</td>\n",
       "      <td>NaN</td>\n",
       "      <td>NaN</td>\n",
       "      <td>NaN</td>\n",
       "    </tr>\n",
       "  </tbody>\n",
       "</table>\n",
       "<p>5 rows × 21 columns</p>\n",
       "</div>"
      ],
      "text/plain": [
       "  Mut1 WT amino acid  Mut1 Position Mut1 Mutation Mut2 WT amino acid  \\\n",
       "0                  Q              2             A                  Y   \n",
       "1                  Q              2             A                  Y   \n",
       "2                  Q              2             A                  Y   \n",
       "3                  Q              2             A                  Y   \n",
       "4                  Q              2             A                  Y   \n",
       "\n",
       "   Mut2 Position Mut2 Mutation  Input Count  Selection Count  Mut1 Fitness  \\\n",
       "0              3             A          173               33         1.518   \n",
       "1              3             C           18                8         1.518   \n",
       "2              3             D           66                2         1.518   \n",
       "3              3             E           72                1         1.518   \n",
       "4              3             F           69              168         1.518   \n",
       "\n",
       "   Mut2 Fitness  ...  Unnamed: 11  WT amino acid Position  Mutation  \\\n",
       "0         0.579  ...          NaN              Q      2.0         A   \n",
       "1         0.616  ...          NaN              Q      2.0         C   \n",
       "2         0.010  ...          NaN              Q      2.0         D   \n",
       "3         0.009  ...          NaN              Q      2.0         E   \n",
       "4         1.054  ...          NaN              Q      2.0         F   \n",
       "\n",
       "  Input Count.1  Selection Count.1  Unnamed: 17  Unnamed: 18  Input Count.2  \\\n",
       "0       14663.0            38476.0          NaN          NaN      1759616.0   \n",
       "1       13001.0            23023.0          NaN          NaN            NaN   \n",
       "2       11488.0            18085.0          NaN          NaN            NaN   \n",
       "3        9501.0            15629.0          NaN          NaN            NaN   \n",
       "4        4770.0            13332.0          NaN          NaN            NaN   \n",
       "\n",
       "   Selection Count.2  \n",
       "0          3041819.0  \n",
       "1                NaN  \n",
       "2                NaN  \n",
       "3                NaN  \n",
       "4                NaN  \n",
       "\n",
       "[5 rows x 21 columns]"
      ]
     },
     "execution_count": 8,
     "metadata": {},
     "output_type": "execute_result"
    }
   ],
   "source": [
    "raw_fitness = pd.read_csv('../data/olson_gb1_fitness.csv', header=1)\n",
    "raw_fitness.head()"
   ]
  },
  {
   "cell_type": "markdown",
   "metadata": {},
   "source": [
    "Look at df setup"
   ]
  },
  {
   "cell_type": "code",
   "execution_count": 9,
   "metadata": {},
   "outputs": [
    {
     "name": "stdout",
     "output_type": "stream",
     "text": [
      "<class 'pandas.core.frame.DataFrame'>\n",
      "RangeIndex: 535917 entries, 0 to 535916\n",
      "Data columns (total 21 columns):\n",
      "Mut1 WT amino acid    535917 non-null object\n",
      "Mut1 Position         535917 non-null int64\n",
      "Mut1 Mutation         535917 non-null object\n",
      "Mut2 WT amino acid    535917 non-null object\n",
      "Mut2 Position         535917 non-null int64\n",
      "Mut2 Mutation         535917 non-null object\n",
      "Input Count           535917 non-null int64\n",
      "Selection Count       535917 non-null int64\n",
      "Mut1 Fitness          535917 non-null float64\n",
      "Mut2 Fitness          535917 non-null float64\n",
      "Unnamed: 10           0 non-null float64\n",
      "Unnamed: 11           0 non-null float64\n",
      "WT amino acid         1045 non-null object\n",
      "Position              1045 non-null float64\n",
      "Mutation              1045 non-null object\n",
      "Input Count.1         1045 non-null float64\n",
      "Selection Count.1     1045 non-null float64\n",
      "Unnamed: 17           0 non-null float64\n",
      "Unnamed: 18           0 non-null float64\n",
      "Input Count.2         1 non-null float64\n",
      "Selection Count.2     1 non-null float64\n",
      "dtypes: float64(11), int64(4), object(6)\n",
      "memory usage: 85.9+ MB\n"
     ]
    }
   ],
   "source": [
    "raw_fitness.info()"
   ]
  },
  {
   "cell_type": "markdown",
   "metadata": {},
   "source": [
    "Split into usable dataframes / variables - fitness_m2 for double mutants, fitness_m1 for single"
   ]
  },
  {
   "cell_type": "code",
   "execution_count": null,
   "metadata": {},
   "outputs": [],
   "source": [
    "# split into separate dfs for single and double mutants\n",
    "fitness_m2 = raw_fitness.iloc[:, :10]\n",
    "fitness_m1 = raw_fitness.iloc[:, 12:17].dropna(how='all')\n",
    "\n",
    "# pull out variables wt_input and wt_sele\n",
    "wt_input = int(raw_fitness.iloc[0, 19])\n",
    "wt_sele = int(raw_fitness.iloc[0, 20])"
   ]
  },
  {
   "cell_type": "markdown",
   "metadata": {},
   "source": [
    "Concatenate substitution info into one 'aa_substitutions' column and clean up the data"
   ]
  },
  {
   "cell_type": "code",
   "execution_count": null,
   "metadata": {},
   "outputs": [],
   "source": [
    "# create new column\n",
    "fitness_m2['aa_substitutions'] = (\n",
    "    fitness_m2['Mut1 WT amino acid'].astype(str) + fitness_m2['Mut1 Position'].astype(str) + \n",
    "    fitness_m2['Mut1 Mutation'].astype(str) + ' ' + \n",
    "    fitness_m2['Mut2 WT amino acid'].astype(str) + fitness_m2['Mut2 Position'].astype(str) + \n",
    "    fitness_m2['Mut2 Mutation'].astype(str)\n",
    ")\n",
    "\n",
    "# drop redundant raw AA columns\n",
    "fitness_m2.drop(fitness_m2.columns[0:6], axis=1, inplace=True)\n",
    "\n",
    "# shift aa_substitutions to index 0\n",
    "cols = list(fitness_m2.columns)\n",
    "cols = cols[-1:] + cols[:-1]\n",
    "fitness_m2 = fitness_m2[cols]\n",
    "\n",
    "# rename headers\n",
    "fitness_m2.rename(columns={'Input Count':'input_count', 'Selection Count':'sele_count', \n",
    "                          'Mut1 Fitness':'mut1_fitness','Mut2 Fitness':'mut2_fitness'}, \n",
    "                  inplace=True)\n",
    "\n",
    "# change counts to numeric\n",
    "num_cols = ['input_count', 'sele_count', 'mut1_fitness', 'mut2_fitness']\n",
    "fitness_m2[num_cols] = fitness_m2[num_cols].astype(np.float64)\n",
    "\n",
    "fitness_m2.head()"
   ]
  },
  {
   "cell_type": "code",
   "execution_count": null,
   "metadata": {},
   "outputs": [],
   "source": [
    "# Repeat for fitness_m1:\n",
    "\n",
    "fitness_m1['aa_substitutions'] = (fitness_m1['WT amino acid'].astype(str) + \n",
    "    fitness_m1['Position'].astype(str) + fitness_m1['Mutation'].astype(str)\n",
    ")\n",
    "\n",
    "# drop redundant raw AA columns\n",
    "fitness_m1.drop(fitness_m1.columns[0:3], axis=1, inplace=True)\n",
    "\n",
    "# shift aa_substitutions to index 0\n",
    "cols = list(fitness_m1.columns)\n",
    "cols = [cols[-1]] + cols[:-1]\n",
    "fitness_m1 = fitness_m1[cols]\n",
    "\n",
    "# rename headers\n",
    "fitness_m1.rename(columns={'Input Count':'input_count', 'Selection Count':'sele_count'}, \n",
    "                  inplace=True)\n",
    "\n",
    "# change counts to numeric\n",
    "num_cols = ['input_count', 'sele_count']\n",
    "fitness_m1[num_cols] = fitness_m1[num_cols].astype(np.int)\n",
    "\n",
    "fitness_m1.head()"
   ]
  },
  {
   "cell_type": "markdown",
   "metadata": {},
   "source": [
    "### Calculating functional scores for mutants from counts"
   ]
  },
  {
   "cell_type": "markdown",
   "metadata": {},
   "source": [
    "Calculate single-mutant and double-mutant fitness from raw count data, defined as:\\\n",
    "\\\n",
    "W = ((mutant selection count) / (wt selection count))  /  ((mutant input) / (wt input))\\\n",
    "\\\n",
    "In other words, fitness W is the post-selection frequency of the mutant relative to wildtype. Label fitness values as 'func_score' to align with BinaryMap input."
   ]
  },
  {
   "cell_type": "code",
   "execution_count": null,
   "metadata": {},
   "outputs": [],
   "source": [
    "def calc_fitness(df):\n",
    "    df = df.assign(func_score = lambda x: (x['sele_count'] / wt_sele) / \n",
    "                      (x['input_count'] / wt_input))\n",
    "    return df"
   ]
  },
  {
   "cell_type": "code",
   "execution_count": null,
   "metadata": {},
   "outputs": [],
   "source": [
    "fitness_m1 = calc_fitness(fitness_m1)\n",
    "fitness_m2 = calc_fitness(fitness_m2)\n",
    "print(fitness_m1.head())\n",
    "print(fitness_m2.head())"
   ]
  },
  {
   "cell_type": "markdown",
   "metadata": {},
   "source": [
    "### Converting to BinaryMap objects"
   ]
  },
  {
   "cell_type": "markdown",
   "metadata": {},
   "source": [
    "Note that we're missing a few columns that dms_variants.BinaryMap usually expects as inputs: \n",
    "* pre_count_wt\n",
    "* post_count_wt\n",
    "* n_aa_substitutions\n",
    "* library\n",
    "* func_score_var\n",
    "\n",
    "Any columns that are not inputted are automatically set to a parameter of zero, and the corresponding attribute is set to *None*."
   ]
  },
  {
   "cell_type": "code",
   "execution_count": null,
   "metadata": {},
   "outputs": [],
   "source": [
    "m1_bmap = dms_variants.binarymap.BinaryMap(fitness_m2, \n",
    "                                           n_pre_col='input_count', \n",
    "                                           n_post_col='sele_count')\n",
    "\n",
    "m2_bmap = dms_variants.binarymap.BinaryMap(fitness_m2, \n",
    "                                           n_pre_col='input_count', \n",
    "                                           n_post_col='sele_count')"
   ]
  }
 ],
 "metadata": {
  "kernelspec": {
   "display_name": "Python 3",
   "language": "python",
   "name": "python3"
  },
  "language_info": {
   "codemirror_mode": {
    "name": "ipython",
    "version": 3
   },
   "file_extension": ".py",
   "mimetype": "text/x-python",
   "name": "python",
   "nbconvert_exporter": "python",
   "pygments_lexer": "ipython3",
   "version": "3.7.3"
  }
 },
 "nbformat": 4,
 "nbformat_minor": 2
}
