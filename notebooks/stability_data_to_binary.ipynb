{
 "cells": [
  {
   "cell_type": "markdown",
   "metadata": {},
   "source": [
    "# Converting raw stability data to BinaryMap object"
   ]
  },
  {
   "cell_type": "markdown",
   "metadata": {},
   "source": [
    "In this notebook, I analyze the raw data reported in Nisthal et al. (2019) - *Protein stability engineering insights revealed by domain-wide comprehensive mutagenesis*. This paper constructs and purifies every single GB1 mutant. Mutant stability is measured by generating a protein unfolding curve in response to a gradient of guanidium chloride, over 2-6 biological replicates. The authors determine the concentration of denaturant at the midpoint of the unfolding transition (Cm) and the slope of the curve. ddG is then calculated as:\n",
    "\n",
    "    ddG = mean * (Cm mutant - Cm WT)\n",
    "\n",
    "With this equation, stabilizing mutations have **positive** ddG values, and destabilizing mutations have **negative** values. \n",
    "\n",
    "This data is reported in ProtaBank under [the ID gwoS2haU3](https://www.protabank.org/study_analysis/3xESLyS9/). The csv file, downloaded from 'Study Data', reports values from numerous assays. For our purposes, I'll be pulling out values reported as 'ddG(mAvg)_mean' and 'SD of ddg(mAvg)_mean', which I assume to be data aggregated over their 2-6 biological replicates.\n",
    "\n",
    "Here, I read in the raw data, isolate the data of interest, and format the dataframe such that it can be turned into a BinaryMap object for downstream epistasis modeling. BinaryMap is part of the dms_variants package developed by the Bloom Lab, and more information can be found here. The output of this notebook is a BinaryMap object describing stability of GB1 single mutants."
   ]
  },
  {
   "cell_type": "code",
   "execution_count": null,
   "metadata": {},
   "outputs": [],
   "source": []
  }
 ],
 "metadata": {
  "kernelspec": {
   "display_name": "Python 3",
   "language": "python",
   "name": "python3"
  },
  "language_info": {
   "codemirror_mode": {
    "name": "ipython",
    "version": 3
   },
   "file_extension": ".py",
   "mimetype": "text/x-python",
   "name": "python",
   "nbconvert_exporter": "python",
   "pygments_lexer": "ipython3",
   "version": "3.7.7"
  }
 },
 "nbformat": 4,
 "nbformat_minor": 4
}
