{
 "cells": [
  {
   "cell_type": "markdown",
   "metadata": {},
   "source": [
    "# Converting raw stability data to BinaryMap object"
   ]
  },
  {
   "cell_type": "markdown",
   "metadata": {},
   "source": [
    "In this notebook, I analyze the raw data reported in Nisthal et al. (2019) - *Protein stability engineering insights revealed by domain-wide comprehensive mutagenesis*. This paper constructs and purifies every single GB1 mutant. Mutant stability is measured by generating a protein unfolding curve in response to a gradient of guanidium chloride, over 2-6 biological replicates. The authors determine the concentration of denaturant at the midpoint of the unfolding transition (Cm) and the slope of the curve. ddG is then calculated as:\n",
    "\n",
    "    ddG = mean * (Cm mutant - Cm WT)\n",
    "\n",
    "With this equation, stabilizing mutations have **positive** ddG values, and destabilizing mutations have **negative** values. \n",
    "\n",
    "This data is reported in ProtaBank under [the ID gwoS2haU3](https://www.protabank.org/study_analysis/3xESLyS9/). The csv file, downloaded from 'Study Data', reports values from numerous assays. For our purposes, I'll be pulling out values reported as 'ddG(mAvg)_mean' and 'SD of ddg(mAvg)_mean', which I assume to be data aggregated over their 2-6 biological replicates. This data was reported to be more precise than ddG(H2O), the stability data calculated using dG(H2O) measurements.\n",
    "\n",
    "Here, I read in the raw data, isolate the data of interest, and format the dataframe such that it can be turned into a BinaryMap object for downstream epistasis modeling. BinaryMap is part of the dms_variants package developed by the Bloom Lab, and more information can be found here. The output of this notebook is a BinaryMap object describing stability of GB1 single mutants."
   ]
  },
  {
   "cell_type": "code",
   "execution_count": 1,
   "metadata": {},
   "outputs": [],
   "source": [
    "import pandas as pd\n",
    "import numpy as np\n",
    "\n",
    "import dms_variants.binarymap\n",
    "import dms_variants.globalepistasis"
   ]
  },
  {
   "cell_type": "code",
   "execution_count": 16,
   "metadata": {},
   "outputs": [
    {
     "data": {
      "text/html": [
       "<div>\n",
       "<style scoped>\n",
       "    .dataframe tbody tr th:only-of-type {\n",
       "        vertical-align: middle;\n",
       "    }\n",
       "\n",
       "    .dataframe tbody tr th {\n",
       "        vertical-align: top;\n",
       "    }\n",
       "\n",
       "    .dataframe thead th {\n",
       "        text-align: right;\n",
       "    }\n",
       "</style>\n",
       "<table border=\"1\" class=\"dataframe\">\n",
       "  <thead>\n",
       "    <tr style=\"text-align: right;\">\n",
       "      <th></th>\n",
       "      <th>Sequence</th>\n",
       "      <th>Description</th>\n",
       "      <th>Ligand</th>\n",
       "      <th>Data</th>\n",
       "      <th>Units</th>\n",
       "      <th>Assay/Protocol</th>\n",
       "    </tr>\n",
       "  </thead>\n",
       "  <tbody>\n",
       "    <tr>\n",
       "      <th>0</th>\n",
       "      <td>ATYKLILNGKTLKGETTTEAVDAATAEKVFKQYANDNGVDGEWTYD...</td>\n",
       "      <td>M01A</td>\n",
       "      <td>NaN</td>\n",
       "      <td>NaN</td>\n",
       "      <td>kcal/mol</td>\n",
       "      <td>ddG(deepseq)_Olson</td>\n",
       "    </tr>\n",
       "    <tr>\n",
       "      <th>1</th>\n",
       "      <td>ATYKLILNGKTLKGETTTEAVDAATAEKVFKQYANDNGVDGEWTYD...</td>\n",
       "      <td>M01A</td>\n",
       "      <td>NaN</td>\n",
       "      <td>NaN</td>\n",
       "      <td>kcal/mol</td>\n",
       "      <td>ddG_lit_fromOlson</td>\n",
       "    </tr>\n",
       "    <tr>\n",
       "      <th>2</th>\n",
       "      <td>ATYKLILNGKTLKGETTTEAVDAATAEKVFKQYANDNGVDGEWTYD...</td>\n",
       "      <td>M01A</td>\n",
       "      <td>NaN</td>\n",
       "      <td>-1.777</td>\n",
       "      <td>kcal/mol·M</td>\n",
       "      <td>m-value</td>\n",
       "    </tr>\n",
       "    <tr>\n",
       "      <th>3</th>\n",
       "      <td>ATYKLILNGKTLKGETTTEAVDAATAEKVFKQYANDNGVDGEWTYD...</td>\n",
       "      <td>M01A</td>\n",
       "      <td>NaN</td>\n",
       "      <td>-0.635</td>\n",
       "      <td>kcal/mol</td>\n",
       "      <td>FullMin</td>\n",
       "    </tr>\n",
       "    <tr>\n",
       "      <th>4</th>\n",
       "      <td>ATYKLILNGKTLKGETTTEAVDAATAEKVFKQYANDNGVDGEWTYD...</td>\n",
       "      <td>M01A</td>\n",
       "      <td>NaN</td>\n",
       "      <td>-0.510</td>\n",
       "      <td>kcal/mol</td>\n",
       "      <td>Rosetta SomeMin_ddG</td>\n",
       "    </tr>\n",
       "  </tbody>\n",
       "</table>\n",
       "</div>"
      ],
      "text/plain": [
       "                                            Sequence Description  Ligand  \\\n",
       "0  ATYKLILNGKTLKGETTTEAVDAATAEKVFKQYANDNGVDGEWTYD...        M01A     NaN   \n",
       "1  ATYKLILNGKTLKGETTTEAVDAATAEKVFKQYANDNGVDGEWTYD...        M01A     NaN   \n",
       "2  ATYKLILNGKTLKGETTTEAVDAATAEKVFKQYANDNGVDGEWTYD...        M01A     NaN   \n",
       "3  ATYKLILNGKTLKGETTTEAVDAATAEKVFKQYANDNGVDGEWTYD...        M01A     NaN   \n",
       "4  ATYKLILNGKTLKGETTTEAVDAATAEKVFKQYANDNGVDGEWTYD...        M01A     NaN   \n",
       "\n",
       "    Data       Units       Assay/Protocol  \n",
       "0    NaN    kcal/mol   ddG(deepseq)_Olson  \n",
       "1    NaN    kcal/mol    ddG_lit_fromOlson  \n",
       "2 -1.777  kcal/mol·M              m-value  \n",
       "3 -0.635    kcal/mol              FullMin  \n",
       "4 -0.510    kcal/mol  Rosetta SomeMin_ddG  "
      ]
     },
     "execution_count": 16,
     "metadata": {},
     "output_type": "execute_result"
    }
   ],
   "source": [
    "raw_stability = pd.read_csv('../data/nisthal_gb1_stability.csv')\n",
    "raw_stability.head()"
   ]
  },
  {
   "cell_type": "code",
   "execution_count": 15,
   "metadata": {},
   "outputs": [
    {
     "name": "stdout",
     "output_type": "stream",
     "text": [
      "<class 'pandas.core.frame.DataFrame'>\n",
      "RangeIndex: 18861 entries, 0 to 18860\n",
      "Data columns (total 6 columns):\n",
      " #   Column          Non-Null Count  Dtype  \n",
      "---  ------          --------------  -----  \n",
      " 0   Sequence        18861 non-null  object \n",
      " 1   Description     18861 non-null  object \n",
      " 2   Ligand          0 non-null      float64\n",
      " 3   Data            16785 non-null  float64\n",
      " 4   Units           18861 non-null  object \n",
      " 5   Assay/Protocol  18861 non-null  object \n",
      "dtypes: float64(2), object(4)\n",
      "memory usage: 884.2+ KB\n"
     ]
    }
   ],
   "source": [
    "raw_stability.info()"
   ]
  },
  {
   "cell_type": "markdown",
   "metadata": {},
   "source": [
    "Drop redundant columns and pull out assay data of interest"
   ]
  },
  {
   "cell_type": "code",
   "execution_count": 40,
   "metadata": {},
   "outputs": [
    {
     "data": {
      "text/html": [
       "<div>\n",
       "<style scoped>\n",
       "    .dataframe tbody tr th:only-of-type {\n",
       "        vertical-align: middle;\n",
       "    }\n",
       "\n",
       "    .dataframe tbody tr th {\n",
       "        vertical-align: top;\n",
       "    }\n",
       "\n",
       "    .dataframe thead th {\n",
       "        text-align: right;\n",
       "    }\n",
       "</style>\n",
       "<table border=\"1\" class=\"dataframe\">\n",
       "  <thead>\n",
       "    <tr style=\"text-align: right;\">\n",
       "      <th></th>\n",
       "      <th>aa_substitutions</th>\n",
       "      <th>stability_score</th>\n",
       "      <th>assay</th>\n",
       "    </tr>\n",
       "  </thead>\n",
       "  <tbody>\n",
       "    <tr>\n",
       "      <th>10</th>\n",
       "      <td>M01A</td>\n",
       "      <td>0.14070</td>\n",
       "      <td>ddG(mAvg)_mean</td>\n",
       "    </tr>\n",
       "    <tr>\n",
       "      <th>11</th>\n",
       "      <td>M01A</td>\n",
       "      <td>0.17250</td>\n",
       "      <td>SD of ddG(mAvg)_mean</td>\n",
       "    </tr>\n",
       "    <tr>\n",
       "      <th>24</th>\n",
       "      <td>M01D</td>\n",
       "      <td>0.19470</td>\n",
       "      <td>SD of ddG(mAvg)_mean</td>\n",
       "    </tr>\n",
       "    <tr>\n",
       "      <th>29</th>\n",
       "      <td>M01D</td>\n",
       "      <td>0.37950</td>\n",
       "      <td>ddG(mAvg)_mean</td>\n",
       "    </tr>\n",
       "    <tr>\n",
       "      <th>40</th>\n",
       "      <td>M01E</td>\n",
       "      <td>0.06883</td>\n",
       "      <td>SD of ddG(mAvg)_mean</td>\n",
       "    </tr>\n",
       "  </tbody>\n",
       "</table>\n",
       "</div>"
      ],
      "text/plain": [
       "   aa_substitutions  stability_score                 assay\n",
       "10             M01A          0.14070        ddG(mAvg)_mean\n",
       "11             M01A          0.17250  SD of ddG(mAvg)_mean\n",
       "24             M01D          0.19470  SD of ddG(mAvg)_mean\n",
       "29             M01D          0.37950        ddG(mAvg)_mean\n",
       "40             M01E          0.06883  SD of ddG(mAvg)_mean"
      ]
     },
     "execution_count": 40,
     "metadata": {},
     "output_type": "execute_result"
    }
   ],
   "source": [
    "cols = [0,2,4]\n",
    "stability_edit = raw_stability.drop(raw_stability.columns[cols], axis=1)\n",
    "stability_edit.rename(columns={'Description':'aa_substitutions', \n",
    "                              'Data':'stability_score', \n",
    "                              'Assay/Protocol':'assay'}, inplace=True)\n",
    "\n",
    "assays = ('ddG(mAvg)_mean', 'SD of ddG(mAvg)_mean')\n",
    "stability_edit = stability_edit.loc[stability_edit['assay'].isin(assays)]\n",
    "\n",
    "stability_edit.head()"
   ]
  },
  {
   "cell_type": "markdown",
   "metadata": {},
   "source": [
    "Pivot to get columns for stability and standard deviation"
   ]
  },
  {
   "cell_type": "code",
   "execution_count": 41,
   "metadata": {},
   "outputs": [
    {
     "data": {
      "text/html": [
       "<div>\n",
       "<style scoped>\n",
       "    .dataframe tbody tr th:only-of-type {\n",
       "        vertical-align: middle;\n",
       "    }\n",
       "\n",
       "    .dataframe tbody tr th {\n",
       "        vertical-align: top;\n",
       "    }\n",
       "\n",
       "    .dataframe thead th {\n",
       "        text-align: right;\n",
       "    }\n",
       "</style>\n",
       "<table border=\"1\" class=\"dataframe\">\n",
       "  <thead>\n",
       "    <tr style=\"text-align: right;\">\n",
       "      <th></th>\n",
       "      <th>aa_substitutions</th>\n",
       "      <th>stability_score_sd</th>\n",
       "      <th>stability_score</th>\n",
       "      <th>n_aa_substitutions</th>\n",
       "    </tr>\n",
       "  </thead>\n",
       "  <tbody>\n",
       "    <tr>\n",
       "      <th>0</th>\n",
       "      <td>A20D</td>\n",
       "      <td>0.16780</td>\n",
       "      <td>-1.646</td>\n",
       "      <td>1</td>\n",
       "    </tr>\n",
       "    <tr>\n",
       "      <th>1</th>\n",
       "      <td>A20E</td>\n",
       "      <td>0.04353</td>\n",
       "      <td>-0.582</td>\n",
       "      <td>1</td>\n",
       "    </tr>\n",
       "    <tr>\n",
       "      <th>2</th>\n",
       "      <td>A20F</td>\n",
       "      <td>0.09556</td>\n",
       "      <td>-1.732</td>\n",
       "      <td>1</td>\n",
       "    </tr>\n",
       "    <tr>\n",
       "      <th>3</th>\n",
       "      <td>A20G</td>\n",
       "      <td>0.17730</td>\n",
       "      <td>-1.107</td>\n",
       "      <td>1</td>\n",
       "    </tr>\n",
       "    <tr>\n",
       "      <th>4</th>\n",
       "      <td>A20H</td>\n",
       "      <td>0.14330</td>\n",
       "      <td>-1.914</td>\n",
       "      <td>1</td>\n",
       "    </tr>\n",
       "  </tbody>\n",
       "</table>\n",
       "</div>"
      ],
      "text/plain": [
       "  aa_substitutions  stability_score_sd  stability_score  n_aa_substitutions\n",
       "0             A20D             0.16780           -1.646                   1\n",
       "1             A20E             0.04353           -0.582                   1\n",
       "2             A20F             0.09556           -1.732                   1\n",
       "3             A20G             0.17730           -1.107                   1\n",
       "4             A20H             0.14330           -1.914                   1"
      ]
     },
     "execution_count": 41,
     "metadata": {},
     "output_type": "execute_result"
    }
   ],
   "source": [
    "gb1_stability = stability_edit.pivot(index='aa_substitutions',columns='assay').reset_index()\n",
    "gb1_stability.columns = ['aa_substitutions', 'stability_score_sd', 'stability_score']\n",
    "\n",
    "# add n_aa_substitutions column\n",
    "gb1_stability['n_aa_substitutions'] = 1\n",
    "\n",
    "gb1_stability.head()"
   ]
  },
  {
   "cell_type": "markdown",
   "metadata": {},
   "source": [
    "Export as pickle"
   ]
  },
  {
   "cell_type": "code",
   "execution_count": 42,
   "metadata": {},
   "outputs": [],
   "source": [
    "# for setting up expand=True in BinaryMap conversion\n",
    "wtseq = \"MQYKLILNGKTLKGETTTEAVDAATAEKVFKQYANDNGVDGEWTYDDATKTFTVTE\"\n",
    "\n",
    "# export fitness data and wtseq\n",
    "import pickle\n",
    "with open(\"gb1_stability.pkl\", \"wb\") as f:\n",
    "      pickle.dump([gb1_stability, wtseq], f)"
   ]
  }
 ],
 "metadata": {
  "kernelspec": {
   "display_name": "Python 3",
   "language": "python",
   "name": "python3"
  },
  "language_info": {
   "codemirror_mode": {
    "name": "ipython",
    "version": 3
   },
   "file_extension": ".py",
   "mimetype": "text/x-python",
   "name": "python",
   "nbconvert_exporter": "python",
   "pygments_lexer": "ipython3",
   "version": "3.7.7"
  }
 },
 "nbformat": 4,
 "nbformat_minor": 4
}
