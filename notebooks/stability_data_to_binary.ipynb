{
 "cells": [
  {
   "cell_type": "markdown",
   "metadata": {},
   "source": [
    "# Converting raw stability data to BinaryMap object"
   ]
  },
  {
   "cell_type": "markdown",
   "metadata": {},
   "source": [
    "In this notebook, I analyze the raw data reported in Nisthal et al. (2019) - *Protein stability engineering insights revealed by domain-wide comprehensive mutagenesis*. This paper constructs and purifies every single GB1 mutant. Mutant stability is measured by generating a protein unfolding curve in response to a gradient of guanidium chloride, over 2-6 biological replicates. The authors determine the concentration of denaturant at the midpoint of the unfolding transition (Cm) and the slope of the curve. ddG is then calculated as:\n",
    "\n",
    "    ddG = mean * (Cm mutant - Cm WT)\n",
    "\n",
    "With this equation, stabilizing mutations have **positive** ddG values, and destabilizing mutations have **negative** values. \n",
    "\n",
    "This data is reported in ProtaBank under [the ID gwoS2haU3](https://www.protabank.org/study_analysis/3xESLyS9/). The csv file, downloaded from 'Study Data', reports values from numerous assays. For our purposes, I'll be pulling out values reported as 'ddG(mAvg)_mean' and 'SD of ddg(mAvg)_mean', which I assume to be data aggregated over their 2-6 biological replicates. This data was reported to be more precise than ddG(H2O), the stability data calculated using dG(H2O) measurements.\n",
    "\n",
    "Here, I read in the raw data, isolate the data of interest, and format the dataframe such that it can be turned into a BinaryMap object for downstream epistasis modeling. BinaryMap is part of the dms_variants package developed by the Bloom Lab, and more information can be found [here](https://jbloomlab.github.io/dms_variants/dms_variants.binarymap.html). The output of this notebook is a BinaryMap object describing stability of GB1 single mutants."
   ]
  },
  {
   "cell_type": "code",
   "execution_count": 2,
   "metadata": {},
   "outputs": [],
   "source": [
    "import pandas as pd\n",
    "import numpy as np\n",
    "\n",
    "import dms_variants.binarymap\n",
    "import dms_variants.globalepistasis"
   ]
  },
  {
   "cell_type": "code",
   "execution_count": 3,
   "metadata": {},
   "outputs": [
    {
     "data": {
      "text/html": [
       "<div>\n",
       "<style scoped>\n",
       "    .dataframe tbody tr th:only-of-type {\n",
       "        vertical-align: middle;\n",
       "    }\n",
       "\n",
       "    .dataframe tbody tr th {\n",
       "        vertical-align: top;\n",
       "    }\n",
       "\n",
       "    .dataframe thead th {\n",
       "        text-align: right;\n",
       "    }\n",
       "</style>\n",
       "<table border=\"1\" class=\"dataframe\">\n",
       "  <thead>\n",
       "    <tr style=\"text-align: right;\">\n",
       "      <th></th>\n",
       "      <th>Sequence</th>\n",
       "      <th>Description</th>\n",
       "      <th>Ligand</th>\n",
       "      <th>Data</th>\n",
       "      <th>Units</th>\n",
       "      <th>Assay/Protocol</th>\n",
       "    </tr>\n",
       "  </thead>\n",
       "  <tbody>\n",
       "    <tr>\n",
       "      <th>0</th>\n",
       "      <td>ATYKLILNGKTLKGETTTEAVDAATAEKVFKQYANDNGVDGEWTYD...</td>\n",
       "      <td>M01A</td>\n",
       "      <td>NaN</td>\n",
       "      <td>NaN</td>\n",
       "      <td>kcal/mol</td>\n",
       "      <td>ddG(deepseq)_Olson</td>\n",
       "    </tr>\n",
       "    <tr>\n",
       "      <th>1</th>\n",
       "      <td>ATYKLILNGKTLKGETTTEAVDAATAEKVFKQYANDNGVDGEWTYD...</td>\n",
       "      <td>M01A</td>\n",
       "      <td>NaN</td>\n",
       "      <td>NaN</td>\n",
       "      <td>kcal/mol</td>\n",
       "      <td>ddG_lit_fromOlson</td>\n",
       "    </tr>\n",
       "    <tr>\n",
       "      <th>2</th>\n",
       "      <td>ATYKLILNGKTLKGETTTEAVDAATAEKVFKQYANDNGVDGEWTYD...</td>\n",
       "      <td>M01A</td>\n",
       "      <td>NaN</td>\n",
       "      <td>-1.777</td>\n",
       "      <td>kcal/mol·M</td>\n",
       "      <td>m-value</td>\n",
       "    </tr>\n",
       "    <tr>\n",
       "      <th>3</th>\n",
       "      <td>ATYKLILNGKTLKGETTTEAVDAATAEKVFKQYANDNGVDGEWTYD...</td>\n",
       "      <td>M01A</td>\n",
       "      <td>NaN</td>\n",
       "      <td>-0.635</td>\n",
       "      <td>kcal/mol</td>\n",
       "      <td>FullMin</td>\n",
       "    </tr>\n",
       "    <tr>\n",
       "      <th>4</th>\n",
       "      <td>ATYKLILNGKTLKGETTTEAVDAATAEKVFKQYANDNGVDGEWTYD...</td>\n",
       "      <td>M01A</td>\n",
       "      <td>NaN</td>\n",
       "      <td>-0.510</td>\n",
       "      <td>kcal/mol</td>\n",
       "      <td>Rosetta SomeMin_ddG</td>\n",
       "    </tr>\n",
       "  </tbody>\n",
       "</table>\n",
       "</div>"
      ],
      "text/plain": [
       "                                            Sequence Description  Ligand  \\\n",
       "0  ATYKLILNGKTLKGETTTEAVDAATAEKVFKQYANDNGVDGEWTYD...        M01A     NaN   \n",
       "1  ATYKLILNGKTLKGETTTEAVDAATAEKVFKQYANDNGVDGEWTYD...        M01A     NaN   \n",
       "2  ATYKLILNGKTLKGETTTEAVDAATAEKVFKQYANDNGVDGEWTYD...        M01A     NaN   \n",
       "3  ATYKLILNGKTLKGETTTEAVDAATAEKVFKQYANDNGVDGEWTYD...        M01A     NaN   \n",
       "4  ATYKLILNGKTLKGETTTEAVDAATAEKVFKQYANDNGVDGEWTYD...        M01A     NaN   \n",
       "\n",
       "    Data       Units       Assay/Protocol  \n",
       "0    NaN    kcal/mol   ddG(deepseq)_Olson  \n",
       "1    NaN    kcal/mol    ddG_lit_fromOlson  \n",
       "2 -1.777  kcal/mol·M              m-value  \n",
       "3 -0.635    kcal/mol              FullMin  \n",
       "4 -0.510    kcal/mol  Rosetta SomeMin_ddG  "
      ]
     },
     "execution_count": 3,
     "metadata": {},
     "output_type": "execute_result"
    }
   ],
   "source": [
    "raw_stability = pd.read_csv('../data/nisthal_gb1_stability.csv')\n",
    "raw_stability.head()"
   ]
  },
  {
   "cell_type": "code",
   "execution_count": 4,
   "metadata": {},
   "outputs": [
    {
     "name": "stdout",
     "output_type": "stream",
     "text": [
      "<class 'pandas.core.frame.DataFrame'>\n",
      "RangeIndex: 18861 entries, 0 to 18860\n",
      "Data columns (total 6 columns):\n",
      " #   Column          Non-Null Count  Dtype  \n",
      "---  ------          --------------  -----  \n",
      " 0   Sequence        18861 non-null  object \n",
      " 1   Description     18861 non-null  object \n",
      " 2   Ligand          0 non-null      float64\n",
      " 3   Data            16785 non-null  float64\n",
      " 4   Units           18861 non-null  object \n",
      " 5   Assay/Protocol  18861 non-null  object \n",
      "dtypes: float64(2), object(4)\n",
      "memory usage: 884.2+ KB\n"
     ]
    }
   ],
   "source": [
    "raw_stability.info()"
   ]
  },
  {
   "cell_type": "markdown",
   "metadata": {},
   "source": [
    "Drop redundant columns and pull out assay data of interest"
   ]
  },
  {
   "cell_type": "code",
   "execution_count": 5,
   "metadata": {},
   "outputs": [
    {
     "data": {
      "text/html": [
       "<div>\n",
       "<style scoped>\n",
       "    .dataframe tbody tr th:only-of-type {\n",
       "        vertical-align: middle;\n",
       "    }\n",
       "\n",
       "    .dataframe tbody tr th {\n",
       "        vertical-align: top;\n",
       "    }\n",
       "\n",
       "    .dataframe thead th {\n",
       "        text-align: right;\n",
       "    }\n",
       "</style>\n",
       "<table border=\"1\" class=\"dataframe\">\n",
       "  <thead>\n",
       "    <tr style=\"text-align: right;\">\n",
       "      <th></th>\n",
       "      <th>aa_substitutions</th>\n",
       "      <th>stability_score</th>\n",
       "      <th>assay</th>\n",
       "    </tr>\n",
       "  </thead>\n",
       "  <tbody>\n",
       "    <tr>\n",
       "      <th>10</th>\n",
       "      <td>M01A</td>\n",
       "      <td>0.14070</td>\n",
       "      <td>ddG(mAvg)_mean</td>\n",
       "    </tr>\n",
       "    <tr>\n",
       "      <th>11</th>\n",
       "      <td>M01A</td>\n",
       "      <td>0.17250</td>\n",
       "      <td>SD of ddG(mAvg)_mean</td>\n",
       "    </tr>\n",
       "    <tr>\n",
       "      <th>24</th>\n",
       "      <td>M01D</td>\n",
       "      <td>0.19470</td>\n",
       "      <td>SD of ddG(mAvg)_mean</td>\n",
       "    </tr>\n",
       "    <tr>\n",
       "      <th>29</th>\n",
       "      <td>M01D</td>\n",
       "      <td>0.37950</td>\n",
       "      <td>ddG(mAvg)_mean</td>\n",
       "    </tr>\n",
       "    <tr>\n",
       "      <th>40</th>\n",
       "      <td>M01E</td>\n",
       "      <td>0.06883</td>\n",
       "      <td>SD of ddG(mAvg)_mean</td>\n",
       "    </tr>\n",
       "  </tbody>\n",
       "</table>\n",
       "</div>"
      ],
      "text/plain": [
       "   aa_substitutions  stability_score                 assay\n",
       "10             M01A          0.14070        ddG(mAvg)_mean\n",
       "11             M01A          0.17250  SD of ddG(mAvg)_mean\n",
       "24             M01D          0.19470  SD of ddG(mAvg)_mean\n",
       "29             M01D          0.37950        ddG(mAvg)_mean\n",
       "40             M01E          0.06883  SD of ddG(mAvg)_mean"
      ]
     },
     "execution_count": 5,
     "metadata": {},
     "output_type": "execute_result"
    }
   ],
   "source": [
    "cols = [0,2,4]\n",
    "stability_edit = raw_stability.drop(raw_stability.columns[cols], axis=1)\n",
    "stability_edit.rename(columns={'Description':'aa_substitutions', \n",
    "                              'Data':'stability_score', \n",
    "                              'Assay/Protocol':'assay'}, inplace=True)\n",
    "\n",
    "assays = ('ddG(mAvg)_mean', 'SD of ddG(mAvg)_mean')\n",
    "stability_edit = stability_edit.loc[stability_edit['assay'].isin(assays)]\n",
    "\n",
    "stability_edit.head()"
   ]
  },
  {
   "cell_type": "markdown",
   "metadata": {},
   "source": [
    "Pivot to get columns for stability and standard deviation"
   ]
  },
  {
   "cell_type": "code",
   "execution_count": 6,
   "metadata": {},
   "outputs": [],
   "source": [
    "gb1_stability = stability_edit.pivot(index='aa_substitutions',columns='assay').reset_index()\n",
    "gb1_stability.columns = ['aa_substitutions', 'stability_score_sd', 'stability_score']\n",
    "\n",
    "# add n_aa_substitutions column\n",
    "gb1_stability['n_aa_substitutions'] = 1"
   ]
  },
  {
   "cell_type": "markdown",
   "metadata": {},
   "source": [
    "Remove leading 0's from aa_substitutions at single digit positions, to align with BinaryMap object formatting."
   ]
  },
  {
   "cell_type": "code",
   "execution_count": 7,
   "metadata": {},
   "outputs": [],
   "source": [
    "import re\n",
    "\n",
    "single_digit = re.compile('([A-Z])(0)(\\d)([A-Z])')\n",
    "\n",
    "gb1_stability['aa_substitutions'] = gb1_stability['aa_substitutions'].replace(\n",
    "    {single_digit: r'\\1\\3\\4'}, regex=True)"
   ]
  },
  {
   "cell_type": "code",
   "execution_count": 8,
   "metadata": {
    "scrolled": true
   },
   "outputs": [
    {
     "name": "stdout",
     "output_type": "stream",
     "text": [
      "    aa_substitutions  stability_score_sd  stability_score  n_aa_substitutions\n",
      "300             F52Q            0.000000         -4.00000                   1\n",
      "301             F52R            0.000000         -4.00000                   1\n",
      "302             F52S            0.000000         -4.00000                   1\n",
      "303             F52T            0.000000         -4.00000                   1\n",
      "304             F52V            0.339900         -2.99200                   1\n",
      "305             F52Y            0.052500         -0.34310                   1\n",
      "306              G9A            0.047960         -0.25260                   1\n",
      "307              G9D            0.105800         -2.50200                   1\n",
      "308              G9E            0.139100         -1.99700                   1\n",
      "309              G9F            0.163400          0.00246                   1\n",
      "310              G9H            0.107200         -1.22000                   1\n",
      "311              G9I            0.124400         -0.59260                   1\n",
      "312              G9K            0.041730         -1.22700                   1\n",
      "313              G9L            0.163400          0.31940                   1\n",
      "314              G9M            0.082940         -0.54780                   1\n",
      "315              G9N            0.052000         -1.29000                   1\n",
      "316              G9P            0.174800         -2.38100                   1\n",
      "317              G9Q            0.103300         -1.05500                   1\n",
      "318              G9R            0.096480         -0.88110                   1\n",
      "319              G9S            0.050920          0.02543                   1\n",
      "320              G9T            0.000603          0.30000                   1\n",
      "321              G9V            0.067210         -0.41680                   1\n",
      "322              G9Y            0.094270         -0.53630                   1\n",
      "323             G14A            0.260700          0.51220                   1\n",
      "324             G14D            0.092970          0.10380                   1\n",
      "325             G14E            0.069040          0.53100                   1\n",
      "326             G14F            0.092170          0.67040                   1\n",
      "327             G14H            0.137900          0.08403                   1\n",
      "328             G14I            0.133500          0.80710                   1\n",
      "329             G14K            0.122500          0.71750                   1\n"
     ]
    }
   ],
   "source": [
    "print(gb1_stability[300:330])"
   ]
  },
  {
   "cell_type": "code",
   "execution_count": 9,
   "metadata": {},
   "outputs": [
    {
     "name": "stdout",
     "output_type": "stream",
     "text": [
      "<class 'pandas.core.frame.DataFrame'>\n",
      "RangeIndex: 935 entries, 0 to 934\n",
      "Data columns (total 4 columns):\n",
      " #   Column              Non-Null Count  Dtype  \n",
      "---  ------              --------------  -----  \n",
      " 0   aa_substitutions    935 non-null    object \n",
      " 1   stability_score_sd  935 non-null    float64\n",
      " 2   stability_score     935 non-null    float64\n",
      " 3   n_aa_substitutions  935 non-null    int64  \n",
      "dtypes: float64(2), int64(1), object(1)\n",
      "memory usage: 29.3+ KB\n"
     ]
    }
   ],
   "source": [
    "gb1_stability.info()"
   ]
  },
  {
   "cell_type": "markdown",
   "metadata": {},
   "source": [
    "Export as pickle"
   ]
  },
  {
   "cell_type": "code",
   "execution_count": 10,
   "metadata": {},
   "outputs": [],
   "source": [
    "# for setting up expand=True in BinaryMap conversion\n",
    "wtseq = \"MQYKLILNGKTLKGETTTEAVDAATAEKVFKQYANDNGVDGEWTYDDATKTFTVTE\"\n",
    "\n",
    "# export fitness data and wtseq\n",
    "import pickle\n",
    "with open(\"gb1_stability.pkl\", \"wb\") as f:\n",
    "      pickle.dump([gb1_stability, wtseq], f)"
   ]
  },
  {
   "cell_type": "code",
   "execution_count": null,
   "metadata": {},
   "outputs": [],
   "source": []
  }
 ],
 "metadata": {
  "kernelspec": {
   "display_name": "Python 3",
   "language": "python",
   "name": "python3"
  },
  "language_info": {
   "codemirror_mode": {
    "name": "ipython",
    "version": 3
   },
   "file_extension": ".py",
   "mimetype": "text/x-python",
   "name": "python",
   "nbconvert_exporter": "python",
   "pygments_lexer": "ipython3",
   "version": "3.7.7"
  }
 },
 "nbformat": 4,
 "nbformat_minor": 4
}
